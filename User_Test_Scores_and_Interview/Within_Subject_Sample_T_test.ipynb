{
  "nbformat": 4,
  "nbformat_minor": 0,
  "metadata": {
    "colab": {
      "name": "Within_Subject_Sample_T-test.ipynb",
      "provenance": [],
      "collapsed_sections": []
    },
    "kernelspec": {
      "name": "python3",
      "display_name": "Python 3"
    },
    "language_info": {
      "name": "python"
    }
  },
  "cells": [
    {
      "cell_type": "markdown",
      "source": [
        "# **This is a hyphotetical sample T-test for game score of Group A and B**"
      ],
      "metadata": {
        "id": "SRrh7l3EIA9M"
      }
    },
    {
      "cell_type": "markdown",
      "source": [
        "Project Name: Raava: Google Chrome Extensions Artificial Intelligence for Phishing Email Prevention and Image Forgery Detection\n",
        "\n",
        "Student Name: Mokhamad Fikri Alfawaid\n",
        "\n",
        "Student Id: 2500125A\n",
        "\n",
        "Major: IT Cyber Security\n",
        "\n",
        "Year: 2021\n",
        "\n",
        "University of Glasgow"
      ],
      "metadata": {
        "id": "Jxnbe9rtKgY0"
      }
    },
    {
      "cell_type": "markdown",
      "source": [
        "# **Code**"
      ],
      "metadata": {
        "id": "_t5_VO9qMpfo"
      }
    },
    {
      "cell_type": "code",
      "execution_count": null,
      "metadata": {
        "id": "IgnKjV5SH_cI"
      },
      "outputs": [],
      "source": [
        "# import libraries\n",
        "from scipy import stats\n",
        "import numpy as np"
      ]
    },
    {
      "cell_type": "code",
      "source": [
        "# define the incorrect answers for both game in both group\n",
        "GoogleA = [1,3,4,3,4,1,3,3,3,1]\n",
        "GoogleB = [4,3,3,3,4,5,1,2,2,2]\n",
        "RaavapretestA = [3,3,2,1,2,1,1,2,4,3]\n",
        "RaavapretestB = [2,3,1,2,0,5,2,3,1,1]\n",
        "RaavaposttestA = [1,0,1,0,0,2,1,1,0,2]\n",
        "RaavaposttestB = [4,1,0,0,0,0,0,0,0,0]"
      ],
      "metadata": {
        "id": "0dBU-cKcK1zm"
      },
      "execution_count": null,
      "outputs": []
    },
    {
      "cell_type": "markdown",
      "source": [
        "# **Google Jigsaw Independent T-test Group A and B**"
      ],
      "metadata": {
        "id": "KhbMXjMWMsKS"
      }
    },
    {
      "cell_type": "code",
      "source": [
        "# determine the mean and standard deviation\n",
        "GoogleA_Mean = np.mean(GoogleA)\n",
        "GoogleB_Mean = np.mean(GoogleB)\n",
        "GoogleA_std = np.std(GoogleA)\n",
        "GoogleB_std = np.std(GoogleB)\n",
        "\n",
        "# independent sample t-test for group a and b\n",
        "print(\"Google Group A and B\")\n",
        "print(\"Google A mean: {}\".format(GoogleA_Mean))\n",
        "print(\"Google B mean: {}\".format(GoogleB_Mean))\n",
        "print(\"Google A standard deviation: {}\".format(GoogleA_std))\n",
        "print(\"Google B standard deviation: {}\".format(GoogleB_std))\n",
        "if(GoogleA_Mean > GoogleB_Mean):\n",
        "    print(\"Mean differences: {}\".format(GoogleA_Mean - GoogleB_Mean))\n",
        "elif(GoogleA_Mean < GoogleB_Mean):\n",
        "    print(\"Mean differences: {}\".format(GoogleB_Mean - GoogleA_Mean))\n",
        "\n",
        "Google_T_result = stats.ttest_ind(GoogleA,GoogleB)\n",
        "print(\"Google T-test result: {}\".format(Google_T_result))\n",
        "\n",
        "alpha = 0.05\n",
        "if(Google_T_result[1]<alpha):\n",
        "    print(\"The t-test result betweeb Google A and Google B is different\")\n",
        "elif(Google_T_result[1]>alpha):\n",
        "    print(\"No difference between the t-test result of Google A and Google B\")"
      ],
      "metadata": {
        "colab": {
          "base_uri": "https://localhost:8080/"
        },
        "id": "_3FmyDvBLI_x",
        "outputId": "a4ad2334-0bd3-46b9-a118-602bed16d177"
      },
      "execution_count": null,
      "outputs": [
        {
          "output_type": "stream",
          "name": "stdout",
          "text": [
            "Google Group A and B\n",
            "Google A mean: 2.6\n",
            "Google B mean: 2.9\n",
            "Google A standard deviation: 1.1135528725660044\n",
            "Google B standard deviation: 1.1357816691600546\n",
            "Mean differences: 0.2999999999999998\n",
            "Google T-test result: Ttest_indResult(statistic=-0.5658251521157379, pvalue=0.5784989021975244)\n",
            "No difference between the t-test result of Google A and Google B\n"
          ]
        }
      ]
    },
    {
      "cell_type": "markdown",
      "source": [
        "# **Raava's Pre-Test Independent T-test Group A and B**"
      ],
      "metadata": {
        "id": "kpfkpgTAMzE8"
      }
    },
    {
      "cell_type": "code",
      "source": [
        "# determine the mean and standard deviation\n",
        "RaavapretestA_Mean = np.mean(RaavapretestA)\n",
        "RaavapretestB_Mean = np.mean(RaavapretestB)\n",
        "RaavapretestA_std = np.std(RaavapretestA)\n",
        "RaavapretestB_std = np.std(RaavapretestB)\n",
        "\n",
        "# independent sample t-test for Raava pretest group a and b\n",
        "print(\"Raava pretest Group A and B\")\n",
        "print(\"Raava pretest A mean: {}\".format(RaavapretestA_Mean))\n",
        "print(\"Raava pretest B mean: {}\".format(RaavapretestB_Mean))\n",
        "print(\"Raava pretest A standard deviation: {}\".format(RaavapretestA_std))\n",
        "print(\"Raava pretest B standard deviation: {}\".format(RaavapretestB_std))\n",
        "if(RaavapretestA_Mean > RaavapretestB_Mean):\n",
        "    print(\"Mean differences: {}\".format(RaavapretestA_Mean - RaavapretestB_Mean))\n",
        "elif(RaavapretestA_Mean < RaavapretestB_Mean):\n",
        "    print(\"Mean differences: {}\".format(RaavapretestB_Mean - RaavapretestA_Mean))\n",
        "\n",
        "Raavapretest_T_result = stats.ttest_ind(RaavapretestA, RaavapretestB)\n",
        "print(\"Raava pretest T-test result: {}\".format(Raavapretest_T_result))\n",
        "\n",
        "alpha = 0.05\n",
        "if(Raavapretest_T_result[1]<alpha):\n",
        "    print(\"The t-test result betweeb Raavapretest A and Raavapretest B is different\")\n",
        "elif(Raavapretest_T_result[1]>alpha):\n",
        "    print(\"No difference between the t-test result of Raavapretest A and Raavapretest B\")"
      ],
      "metadata": {
        "colab": {
          "base_uri": "https://localhost:8080/"
        },
        "id": "BYO6fn71LNQ9",
        "outputId": "3026fcee-32a5-4c6c-9ff6-c4cdd900730f"
      },
      "execution_count": null,
      "outputs": [
        {
          "output_type": "stream",
          "name": "stdout",
          "text": [
            "Raava pretest Group A and B\n",
            "Raava pretest A mean: 2.2\n",
            "Raava pretest B mean: 2.0\n",
            "Raava pretest A standard deviation: 0.9797958971132713\n",
            "Raava pretest B standard deviation: 1.3416407864998738\n",
            "Mean differences: 0.20000000000000018\n",
            "Raava pretest T-test result: Ttest_indResult(statistic=0.3611575592573079, pvalue=0.7221858255539928)\n",
            "No difference between the t-test result of Raavapretest A and Raavapretest B\n"
          ]
        }
      ]
    },
    {
      "cell_type": "markdown",
      "source": [
        "# **Raava's Post-Test Independent T-test Group A and B**"
      ],
      "metadata": {
        "id": "kWsPVjCMM7KY"
      }
    },
    {
      "cell_type": "code",
      "source": [
        "# determine the mean and standard deviation\n",
        "RaavaposttestA_Mean = np.mean(RaavaposttestA)\n",
        "RaavaposttestB_Mean = np.mean(RaavaposttestB)\n",
        "RaavaposttestA_std = np.std(RaavaposttestA)\n",
        "RaavaposttestB_std = np.std(RaavaposttestB)\n",
        "\n",
        "# independent sample t-test for Raava posttest group a and b\n",
        "print(\"Raava posttest Group A and B\")\n",
        "print(\"Raava posttest A mean: {:.4f}\".format(RaavaposttestA_Mean))\n",
        "print(\"Raava posttest B mean: {:.4f}\".format(RaavaposttestB_Mean))\n",
        "print(\"Raava posttest A standard deviation: {:.4f}\".format(RaavaposttestA_std))\n",
        "print(\"Raava posttest B standard deviation: {:.4f}\".format(RaavaposttestB_std))\n",
        "if(RaavaposttestA_Mean > RaavaposttestB_Mean):\n",
        "    print(\"Mean differences: {:.4f}\".format(RaavaposttestA_Mean - RaavaposttestB_Mean))\n",
        "elif(RaavaposttestA_Mean < RaavaposttestB_Mean):\n",
        "    print(\"Mean differences: {:.4f}\".format(RaavaposttestB_Mean - RaavaposttestA_Mean))\n",
        "\n",
        "Raavaposttest_T_result = stats.ttest_ind(RaavaposttestA, RaavaposttestB)\n",
        "print(\"Raava posttest T-test result: {}\".format(Raavaposttest_T_result))\n",
        "\n",
        "alpha = 0.05\n",
        "if(Raavaposttest_T_result[1]<alpha):\n",
        "    print(\"The t-test result between Raavaposttest A and Raavaposttest B is different\")\n",
        "elif(Raavaposttest_T_result[1]>alpha):\n",
        "    print(\"No difference between the t-test result of Raavaposttest A and Raavaposttest B\")"
      ],
      "metadata": {
        "colab": {
          "base_uri": "https://localhost:8080/"
        },
        "id": "IeVOwjpfLUfb",
        "outputId": "ef2ab6ad-0d88-4b04-bc6b-e0c3edfb92bd"
      },
      "execution_count": null,
      "outputs": [
        {
          "output_type": "stream",
          "name": "stdout",
          "text": [
            "Raava posttest Group A and B\n",
            "Raava posttest A mean: 0.8000\n",
            "Raava posttest B mean: 0.5000\n",
            "Raava posttest A standard deviation: 0.7483\n",
            "Raava posttest B standard deviation: 1.2042\n",
            "Mean differences: 0.3000\n",
            "Raava posttest T-test result: Ttest_indResult(statistic=0.6348110542727385, pvalue=0.5335383314540462)\n",
            "No difference between the t-test result of Raavaposttest A and Raavaposttest B\n"
          ]
        }
      ]
    },
    {
      "cell_type": "markdown",
      "source": [
        "# **Raava's Pretest and Posttest Dependent T-test Group A**"
      ],
      "metadata": {
        "id": "WEYaQm0LM-A4"
      }
    },
    {
      "cell_type": "code",
      "source": [
        "# calculate the mean and standard deviation for Raava pretest and posttest from group A\n",
        "RaavapretestA_Mean = np.mean(RaavapretestA)\n",
        "RaavaposttestA_Mean = np.mean(RaavaposttestA)\n",
        "RaavapretestA_std = np.std(RaavapretestA)\n",
        "RaavaposttestA_std = np.std(RaavaposttestA)\n",
        "\n",
        "# dependent sample T-test Raava from group A\n",
        "print(\"Raava Group A\")\n",
        "print(\"Raava pretest A mean: {:.4f}\".format(RaavapretestA_Mean))\n",
        "print(\"Raava posttest A mean: {:.4f}\".format(RaavaposttestA_Mean))\n",
        "print(\"Raava pretest A standard deviation: {:.4f}\".format(RaavapretestA_std))\n",
        "print(\"Raava posttest A standard deviation: {:.4f}\".format(RaavaposttestA_std))\n",
        "if(RaavapretestA_Mean > RaavaposttestA_Mean):\n",
        "    print(\"Mean differences: {:.4f}\".format(RaavapretestA_Mean - RaavaposttestA_Mean))\n",
        "elif(RaavapretestA_Mean < RaavaposttestA_Mean):\n",
        "    print(\"Mean differences: {:.4f}\".format(RaavaposttestA_Mean - RaavapretestA_Mean))\n",
        "\n",
        "RaavapreposttestA_T_result = stats.ttest_rel(RaavapretestA, RaavaposttestA)\n",
        "print(\"Raava T-test result: {}\".format(RaavapreposttestA_T_result))\n",
        "\n",
        "alpha = 0.05\n",
        "if(RaavapreposttestA_T_result[1]<alpha):\n",
        "    print(\"The t-test result between Raava pretest A and Raava posttest A is different\")\n",
        "elif(RaavapreposttestA_T_result[1]>alpha):\n",
        "    print(\"No difference between the t-test result of Raava pretest A and Raava posttest A\")"
      ],
      "metadata": {
        "colab": {
          "base_uri": "https://localhost:8080/"
        },
        "id": "mY-beMj9LeLc",
        "outputId": "8f667295-6013-4d5a-96c1-48a29777bda5"
      },
      "execution_count": null,
      "outputs": [
        {
          "output_type": "stream",
          "name": "stdout",
          "text": [
            "Raava Group A\n",
            "Raava pretest A mean: 2.2000\n",
            "Raava posttest A mean: 0.8000\n",
            "Raava pretest A standard deviation: 0.9798\n",
            "Raava posttest A standard deviation: 0.7483\n",
            "Mean differences: 1.4000\n",
            "Raava T-test result: Ttest_relResult(statistic=3.0962810792528392, pvalue=0.012799041082730134)\n",
            "The t-test result between Raava pretest A and Raava posttest A is different\n"
          ]
        }
      ]
    },
    {
      "cell_type": "markdown",
      "source": [
        "# **Raava's Pretest and Posttest Dependent T-test Group B**"
      ],
      "metadata": {
        "id": "ftUK_huuNFhL"
      }
    },
    {
      "cell_type": "code",
      "source": [
        "# calculate the mean and standard deviation for Raava pretest and posttest from group b\n",
        "RaavapretestB_Mean = np.mean(RaavapretestB)\n",
        "RaavaposttestB_Mean = np.mean(RaavaposttestB)\n",
        "RaavapretestB_std = np.std(RaavapretestB)\n",
        "RaavaposttestB_std = np.std(RaavaposttestB)\n",
        "\n",
        "# dependent sample T-test Raava from group b\n",
        "print(\"Raava Group B\")\n",
        "print(\"Raava pretest B mean: {:.4f}\".format(RaavapretestB_Mean))\n",
        "print(\"Raava posttest B mean: {:.4f}\".format(RaavaposttestB_Mean))\n",
        "print(\"Raava pretest B standard deviation: {:.4f}\".format(RaavapretestB_std))\n",
        "print(\"Raava posttest B standard deviation: {:.4f}\".format(RaavaposttestB_std))\n",
        "if(RaavapretestB_Mean > RaavaposttestB_Mean):\n",
        "    print(\"Mean differences: {:.4f}\".format(RaavapretestB_Mean - RaavaposttestB_Mean))\n",
        "elif(RaavapretestB_Mean < RaavaposttestB_Mean):\n",
        "    print(\"Mean differences: {:.4f}\".format(RaavaposttestB_Mean - RaavapretestB_Mean))\n",
        "\n",
        "RaavapreposttestB_T_result = stats.ttest_rel(RaavapretestB, RaavaposttestB)\n",
        "print(\"Raava T-test result: {}\".format(RaavapreposttestB_T_result))\n",
        "\n",
        "alpha = 0.05\n",
        "if(RaavapreposttestB_T_result[1]<alpha):\n",
        "    print(\"The t-test result between Raava pretest B and Raavaposttest B is different\")\n",
        "elif(RaavapreposttestA_T_result[1]>alpha):\n",
        "    print(\"No difference between the t-test result of Raavapretest B and Raavaposttest B\")"
      ],
      "metadata": {
        "colab": {
          "base_uri": "https://localhost:8080/"
        },
        "id": "TOuwW9tqMe6C",
        "outputId": "fdbdc0dd-3748-4c4d-b88c-83471a235fe9"
      },
      "execution_count": null,
      "outputs": [
        {
          "output_type": "stream",
          "name": "stdout",
          "text": [
            "Raava Group B\n",
            "Raava pretest B mean: 2.0000\n",
            "Raava posttest B mean: 0.5000\n",
            "Raava pretest B standard deviation: 1.3416\n",
            "Raava posttest B standard deviation: 1.2042\n",
            "Mean differences: 1.5000\n",
            "Raava T-test result: Ttest_relResult(statistic=2.576692504412407, pvalue=0.02985818217520561)\n",
            "The t-test result between Raava pretest B and Raavaposttest B is different\n"
          ]
        }
      ]
    }
  ]
}